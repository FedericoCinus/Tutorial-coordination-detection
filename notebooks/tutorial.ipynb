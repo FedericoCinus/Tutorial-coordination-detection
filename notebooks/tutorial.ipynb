{
 "cells": [
  {
   "cell_type": "code",
   "execution_count": 31,
   "id": "ca345675-8909-44a3-b6d9-bae4cdb6d4c4",
   "metadata": {},
   "outputs": [],
   "source": [
    "# Step 3: Define URLs for the four coordinated users\n",
    "user_to_url = {\n",
    "    f\"coordinated_user_0\": \"https://x.com/federico_cinus?lang=en\",\n",
    "    f\"coordinated_user_1\": \"https://x.com/fractalzucky\",\n",
    "    f\"coordinated_user_2\": \"https://x.com/emilio__ferrara\",\n",
    "    f\"coordinated_user_3\": \"https://x.com/LucaLuceri\"\n",
    "}"
   ]
  },
  {
   "cell_type": "markdown",
   "id": "9c39b228-8110-4556-af90-7166442f6a1f",
   "metadata": {},
   "source": [
    "# 0. Random data generation process"
   ]
  },
  {
   "cell_type": "code",
   "execution_count": 81,
   "id": "6f040ad2-4980-4333-97b9-4dafdd5b2719",
   "metadata": {},
   "outputs": [],
   "source": [
    "import numpy as np\n",
    "import os\n",
    "\n",
    "os.makedirs(\"../data\", exist_ok=True)\n",
    "\n",
    "# Parameters definition\n",
    "NUMBER_OF_ROWS = 1_000\n",
    "NUMBER_OF_USERS = 100\n",
    "NUMBER_OF_URLS = 100_000\n",
    "\n",
    "data = {\n",
    "    \"user\": [f\"user_{np.random.randint(0, NUMBER_OF_USERS)}\" for _ in range(NUMBER_OF_ROWS)],\n",
    "    \"url\": [f\"http://example.com/{np.random.randint(0, NUMBER_OF_URLS)}\" for _ in range(NUMBER_OF_ROWS)],\n",
    "    \"value\": np.random.rand(NUMBER_OF_ROWS)\n",
    "}"
   ]
  },
  {
   "cell_type": "markdown",
   "id": "6f2d73ab-5725-49ed-9095-58729a97f6da",
   "metadata": {},
   "source": [
    "------"
   ]
  },
  {
   "cell_type": "markdown",
   "id": "961b803a-34e4-48c5-8db9-62bba3b05df6",
   "metadata": {},
   "source": [
    "# 1. Dataset format"
   ]
  },
  {
   "cell_type": "markdown",
   "id": "23e6c5ba-dd5c-4081-8b74-0f696ba0aa5a",
   "metadata": {},
   "source": [
    "### Suggestion: Use parquet: https://en.wikipedia.org/wiki/Apache_Parquet"
   ]
  },
  {
   "cell_type": "markdown",
   "id": "179eac58-015a-46ba-97b2-fa1ad6eb3b26",
   "metadata": {},
   "source": [
    "### Facts:"
   ]
  },
  {
   "cell_type": "code",
   "execution_count": 82,
   "id": "1800d0e6-2ba9-40fc-a10f-736cf440a5de",
   "metadata": {},
   "outputs": [
    {
     "name": "stdout",
     "output_type": "stream",
     "text": [
      "Parquet size: 13.0 KB\n",
      "CSV size: 50.9 KB\n",
      "Size difference: 74.52% smaller for Parquet compared to CSV.\n"
     ]
    }
   ],
   "source": [
    "import polars as pl\n",
    "from pathlib import Path\n",
    "import os\n",
    "\n",
    "# Convert to polars table\n",
    "df_random_table = pl.DataFrame(data)\n",
    "\n",
    "# File paths\n",
    "parquet_file = Path(\"../data/dataset.parquet\")\n",
    "csv_file = Path(\"../data/dataset.csv\")\n",
    "\n",
    "# Write to Parquet\n",
    "df_random_table.write_parquet(parquet_file)\n",
    "\n",
    "# Write to CSV\n",
    "df_random_table.write_csv(csv_file)\n",
    "\n",
    "# Get file sizes\n",
    "parquet_size = os.path.getsize(parquet_file)\n",
    "csv_size = os.path.getsize(csv_file)\n",
    "\n",
    "# Compare sizes\n",
    "print(f\"Parquet size: {parquet_size / 1024:,.1f} KB\")\n",
    "print(f\"CSV size: {csv_size / 1024:,.1f} KB\")\n",
    "\n",
    "# Calculate the percentage difference\n",
    "size_difference_percentage = ((csv_size - parquet_size) / csv_size) * 100\n",
    "\n",
    "# Display the percentage difference\n",
    "print(f\"Size difference: {size_difference_percentage:.2f}% smaller for Parquet compared to CSV.\")"
   ]
  },
  {
   "cell_type": "markdown",
   "id": "d4f66ec0-46c0-4398-b6ef-f8b7a34d21be",
   "metadata": {},
   "source": [
    "----"
   ]
  },
  {
   "cell_type": "markdown",
   "id": "7dbbbb86-11fd-442d-a4ea-62a183e14329",
   "metadata": {},
   "source": [
    "# 2. Data Processing"
   ]
  },
  {
   "cell_type": "markdown",
   "id": "438d06d2-5147-4d3e-b2a1-70ce41cd7da1",
   "metadata": {},
   "source": [
    "### Suggestion: use Polars: https://pola.rs/"
   ]
  },
  {
   "cell_type": "markdown",
   "id": "102752a1-514c-4ea7-8d2e-525415a0b90c",
   "metadata": {},
   "source": [
    "### Polars\n",
    "\n",
    "### Facts:\n",
    "\n",
    "1. **Parallel Processing**: Polars is built in Rust and is designed to leverage multicore CPUs, allowing it to execute operations across multiple threads. This parallelism significantly speeds up tasks like filtering, aggregating, and transforming data compared to PyArrow or Pandas.\n",
    "\n",
    "2. **Lazy Evaluation**: Polars supports lazy evaluation, which optimizes the execution plan by analyzing the entire query before running it. This ensures that operations are only executed when necessary, reducing redundant computations.\n",
    "\n",
    "3. **Efficient Memory Management**: Polars uses a columnar storage format similar to Apache Arrow but optimizes data layout and memory access patterns for faster in-memory computations. This results in lower memory overhead and faster data access.\n",
    "\n",
    "4. **Built-in Rust Optimizations**: Polars is written in Rust, which provides memory safety and low-level optimizations, giving Polars an edge in execution speed and resource management.\n",
    "\n",
    "**Best for**: Fast in-memory data manipulation, especially on large datasets that fit in a single machine's memory.\n",
    "\n",
    "**Strengths**: Highly efficient with parallel processing, lazy evaluation, and optimized for modern multicore CPUs.\n",
    "\n",
    "**Use Case**: Data analytics pipelines with large datasets that require high performance, especially when running complex operations (e.g., group-by, joins).\n"
   ]
  },
  {
   "cell_type": "code",
   "execution_count": 83,
   "id": "c1f26ee8-391b-4bbd-9b1b-3c90e42d3033",
   "metadata": {},
   "outputs": [],
   "source": [
    "import pandas as pd\n",
    "import polars as pl\n",
    "import numpy as np\n",
    "import time\n",
    "from functools import wraps\n",
    "\n",
    "# Timing decorator\n",
    "def time_it(func):\n",
    "    @wraps(func)\n",
    "    def wrapper(*args, **kwargs):\n",
    "        start_time = time.time()\n",
    "        result = func(*args, **kwargs)\n",
    "        end_time = time.time()\n",
    "        print(f\"{func.__name__} took {end_time - start_time:.4f} seconds\")\n",
    "        return result\n",
    "    return wrapper"
   ]
  },
  {
   "cell_type": "markdown",
   "id": "8354b7c3-cf1d-4540-bbc2-94057ea4572c",
   "metadata": {},
   "source": [
    "### 2.1 Loading"
   ]
  },
  {
   "cell_type": "code",
   "execution_count": 84,
   "id": "5e842add-55c9-46f3-87b8-399e5c92a1c9",
   "metadata": {},
   "outputs": [
    {
     "name": "stdout",
     "output_type": "stream",
     "text": [
      "Pandas Load Times:\n",
      "CPU times: user 1.36 ms, sys: 681 μs, total: 2.04 ms\n",
      "Wall time: 2.06 ms\n",
      "CPU times: user 1.73 ms, sys: 94 μs, total: 1.82 ms\n",
      "Wall time: 1.79 ms\n",
      "\n",
      "Polars Load Times:\n",
      "CPU times: user 0 ns, sys: 463 μs, total: 463 μs\n",
      "Wall time: 386 μs\n",
      "CPU times: user 547 μs, sys: 0 ns, total: 547 μs\n",
      "Wall time: 324 μs\n",
      "\n",
      "PyArrow Load Times:\n",
      "CPU times: user 480 μs, sys: 185 μs, total: 665 μs\n",
      "Wall time: 414 μs\n",
      "CPU times: user 662 μs, sys: 0 ns, total: 662 μs\n",
      "Wall time: 499 μs\n"
     ]
    }
   ],
   "source": [
    "from pathlib import Path\n",
    "\n",
    "# File paths\n",
    "parquet_file = Path(\"../data/dataset.parquet\")\n",
    "csv_file = Path(\"../data/dataset.csv\")\n",
    "\n",
    "# Pandas loading tests\n",
    "import pandas as pd\n",
    "print(\"Pandas Load Times:\")\n",
    "%time pandas_df_csv = pd.read_csv(csv_file)\n",
    "%time pandas_df_parquet = pd.read_parquet(parquet_file)\n",
    "\n",
    "import polars as pl\n",
    "# Polars loading tests\n",
    "print(\"\\nPolars Load Times:\")\n",
    "%time polars_df_csv = pl.read_csv(csv_file)\n",
    "%time polars_df_parquet = pl.read_parquet(parquet_file)\n",
    "\n",
    "import pyarrow.parquet as pq\n",
    "import pyarrow.csv as pv\n",
    "# PyArrow loading tests\n",
    "print(\"\\nPyArrow Load Times:\")\n",
    "%time pyarrow_df_csv = pv.read_csv(csv_file)\n",
    "%time pyarrow_df_parquet = pq.read_table(parquet_file)\n",
    "# PyArrow does not have an in-memory DataFrame structure"
   ]
  },
  {
   "cell_type": "markdown",
   "id": "a13ffc16-34c7-4eaf-914a-38a6c3f4ef90",
   "metadata": {},
   "source": [
    "### 2.2 Loading larger files"
   ]
  },
  {
   "cell_type": "code",
   "execution_count": 70,
   "id": "4a4d6603-5c30-474b-969f-51a04424794b",
   "metadata": {},
   "outputs": [
    {
     "name": "stdout",
     "output_type": "stream",
     "text": [
      "Pandas Load Times:\n",
      "CPU times: user 2.59 s, sys: 130 ms, total: 2.72 s\n",
      "Wall time: 2.72 s\n",
      "CPU times: user 690 ms, sys: 122 ms, total: 812 ms\n",
      "Wall time: 420 ms\n",
      "\n",
      "Polars Load Times:\n",
      "CPU times: user 813 ms, sys: 156 ms, total: 969 ms\n",
      "Wall time: 209 ms\n",
      "CPU times: user 136 ms, sys: 65.2 ms, total: 201 ms\n",
      "Wall time: 45.4 ms\n",
      "CPU times: user 859 ms, sys: 58 ms, total: 917 ms\n",
      "Wall time: 897 ms\n",
      "\n",
      "PyArrow Load Times:\n",
      "CPU times: user 827 ms, sys: 224 ms, total: 1.05 s\n",
      "Wall time: 252 ms\n",
      "CPU times: user 401 ms, sys: 72.3 ms, total: 473 ms\n",
      "Wall time: 121 ms\n"
     ]
    }
   ],
   "source": [
    "# Larger dataframe ~10M rows\n",
    "\n",
    "# File paths\n",
    "csv_file_large = Path(\"../data/dataset-large.csv\")\n",
    "parquet_file_large = Path(\"../data/dataset-large.parquet\")\n",
    "\n",
    "# Pandas loading tests\n",
    "print(\"Pandas Load Times:\")\n",
    "%time pandas_df_csv = pd.read_csv(csv_file_large)\n",
    "%time pandas_df_parquet = pd.read_parquet(parquet_file_large)\n",
    "\n",
    "# Polars loading tests\n",
    "print(\"\\nPolars Load Times:\")\n",
    "%time polars_df_csv = pl.read_csv(csv_file_large)\n",
    "%time polars_df_parquet = pl.read_parquet(parquet_file_large)\n",
    "%time polars_df_memory = pl.DataFrame(data)\n",
    "\n",
    "# PyArrow loading tests\n",
    "print(\"\\nPyArrow Load Times:\")\n",
    "%time pyarrow_df_csv = pv.read_csv(csv_file_large)\n",
    "%time pyarrow_df_parquet = pq.read_table(parquet_file_large)\n",
    "# PyArrow does not have an in-memory DataFrame structure"
   ]
  },
  {
   "cell_type": "markdown",
   "id": "8fb72abe-a2ae-4c87-ba04-653d9dfbc63a",
   "metadata": {},
   "source": [
    "### 2.2.1 Other libraries to mention: \n",
    "\n",
    "https://medium.com/@nandeda.narayan/data-processing-at-scale-comparison-of-pandas-polars-and-dask-333ae65c0a45\n",
    "\n",
    "https://www.confessionsofadataguy.com/pyarrow-vs-polars-vs-duckdb-for-data-pipelines/"
   ]
  },
  {
   "cell_type": "code",
   "execution_count": 85,
   "id": "ac327568-102b-43ec-a760-fad7a754b37f",
   "metadata": {},
   "outputs": [],
   "source": [
    "import pyarrow as pa\n",
    "import pyarrow.dataset as ds\n",
    "import pyarrow.parquet as pq"
   ]
  },
  {
   "cell_type": "markdown",
   "id": "06a542bc-fce1-4a48-b1f9-7859f1220870",
   "metadata": {},
   "source": [
    "PyArrow:\n",
    "\n",
    "1. Data Storage and I/O: Efficiently read/write Parquet and Feather files, with support for compression and partitioning.\n",
    "    \n",
    "2. Interoperability: Exchange data seamlessly between different libraries (e.g., Pandas, Spark) and languages (e.g., Python, R).\n",
    "\n",
    "3. In-Memory Data Sharing: Use Arrow IPC for zero-copy, high-performance data sharing between processes.\n",
    "                                        \n",
    "4. Schema Management: Manage evolving data structures and metadata, making it easy to track and adapt to changes.\n",
    "                                        \n",
    "5. Single-Machine Optimizations: Ideal for single-machine use cases with fast, columnar data access but without parallel processing.\n"
   ]
  },
  {
   "cell_type": "markdown",
   "id": "153abcf0-ccf8-439f-a4f2-8644c9e47a58",
   "metadata": {},
   "source": [
    "Dask:\n",
    "\n",
    "1. Parallel and Distributed Processing: Perform computations on large datasets across multiple cores or even a cluster.\n",
    "\n",
    "2. Scalable Pandas-Like Interface: Use Dask DataFrames for familiar Pandas-like syntax, scaling to datasets that exceed memory.\n",
    "    \n",
    "3. Out-of-Core Processing: Handle data that doesn’t fit into RAM by processing it in chunks from disk.\n",
    "    \n",
    "4. Complex Workflows and Pipelines: Build complex workflows with delayed computation, optimized scheduling, and fault tolerance.\n",
    "    \n",
    "5. Big Data Integration: Integrate with distributed storage systems (e.g., S3, HDFS) and big data libraries like Dask ML for scalable machine learning."
   ]
  },
  {
   "cell_type": "markdown",
   "id": "2b372998-4673-4f4f-8c8d-4517b68cda79",
   "metadata": {},
   "source": [
    "### 2.3 Processing"
   ]
  },
  {
   "cell_type": "code",
   "execution_count": 86,
   "id": "d7075de1-feb6-40c3-8052-5ca8653e5f7c",
   "metadata": {},
   "outputs": [],
   "source": [
    "# Pandas operations with timing\n",
    "@time_it\n",
    "def pandas_unique_urls_above_threshold(data: pd.DataFrame, threshold: float) -> int:\n",
    "    '''Filtering and extracting numeric portion of URLs\n",
    "    '''\n",
    "    df_pandas[\"url_number\"] = df_pandas[\"url\"].str.extract(r'(\\d+)$').astype(int)\n",
    "    df_filtered = df_pandas[df_pandas[\"url_number\"] > threshold]\n",
    "    unique_urls = df_filtered[\"url\"].nunique()\n",
    "    return unique_urls\n",
    "\n",
    "# Polars operations with timing\n",
    "@time_it\n",
    "def polars_unique_urls_above_threshold(data: pl.DataFrame, threshold: float) -> int:\n",
    "    # Filtering, extracting, and counting unique URLs in a chained operation\n",
    "    unique_urls = (\n",
    "        df_polars\n",
    "        .with_columns(pl.col(\"url\").str.extract(r'(\\d+)$').cast(pl.Int32).alias(\"url_number\"))\n",
    "        .filter(pl.col(\"url_number\") > threshold)\n",
    "        .select(pl.col(\"url\").n_unique())\n",
    "        .item()  # To get the single resulting value\n",
    "    )\n",
    "    return unique_urls\n",
    "\n",
    "\n",
    "# Cast dataframes\n",
    "df_pandas = pd.DataFrame(data)\n",
    "df_polars = pl.DataFrame(data)\n",
    "\n",
    "threshold = NUMBER_OF_URLS // 2"
   ]
  },
  {
   "cell_type": "code",
   "execution_count": 87,
   "id": "543b8ad4-1ed2-4908-98d5-6415fa599e8b",
   "metadata": {},
   "outputs": [
    {
     "name": "stdout",
     "output_type": "stream",
     "text": [
      "Running Pandas unique URL count:\n",
      "pandas_unique_urls_above_threshold took 0.0024 seconds\n",
      "Unique URLs in Pandas: 500\n",
      "\n",
      "Running Polars unique URL count:\n",
      "polars_unique_urls_above_threshold took 0.0008 seconds\n",
      "Unique URLs in Polars: 500\n"
     ]
    }
   ],
   "source": [
    "# Run and compare\n",
    "print(\"Running Pandas unique URL count:\")\n",
    "pandas_result = pandas_unique_urls_above_threshold(df_pandas, threshold)\n",
    "print(f\"Unique URLs in Pandas: {pandas_result}\")\n",
    "\n",
    "print(\"\\nRunning Polars unique URL count:\")\n",
    "polars_result = polars_unique_urls_above_threshold(df_polars, threshold)\n",
    "print(f\"Unique URLs in Polars: {polars_result}\")"
   ]
  },
  {
   "cell_type": "markdown",
   "id": "3b1f24bf-c3c6-4a2c-bb7f-6e2dc5c64861",
   "metadata": {},
   "source": [
    "### Notes"
   ]
  },
  {
   "cell_type": "markdown",
   "id": "447fdd51-ce7e-4d9d-bb0c-c7917f87b96e",
   "metadata": {},
   "source": [
    "ChatGPT 4 is not updated --> Look at Polars' documentation: https://docs.pola.rs/\n",
    "\n",
    "1. apply --> map_elements\n",
    "2. groupby --> group_by\n",
    "3. nunique --> n_unique\n",
    "\n",
    "Lazy execution does not allow progress_apply()"
   ]
  },
  {
   "cell_type": "markdown",
   "id": "a75d1527-2a95-4ef6-88bc-ec86663deb00",
   "metadata": {},
   "source": [
    "-----"
   ]
  },
  {
   "cell_type": "markdown",
   "id": "9730a514-bb08-4ca6-ad76-40bdda53f056",
   "metadata": {},
   "source": [
    "# 3. Coordination Detection"
   ]
  },
  {
   "cell_type": "markdown",
   "id": "5111c4a6-ef48-45c5-8859-7f0ee5c5e33f",
   "metadata": {},
   "source": [
    "### Suggestion: use cuML if you want fast execution and your data fits in the GPU: https://docs.rapids.ai/api/cuml/stable/"
   ]
  },
  {
   "cell_type": "markdown",
   "id": "5deae6da-31fa-4009-b3bf-3ddbafb8e2d4",
   "metadata": {},
   "source": [
    "### Facts:\n",
    "\n",
    "1. **GPU-Accelerated**: cuML is built on CUDA and is optimized for GPU acceleration, allowing it to perform data processing and machine learning computations much faster than CPU-based libraries, especially on large datasets.\n",
    "\n",
    "2. **Scalable Algorithms**: cuML provides scalable implementations of essential machine learning algorithms, including clustering, linear regression, and nearest neighbors. These algorithms are designed to handle large datasets efficiently on GPU hardware.\n",
    "\n",
    "3. **Interoperability with RAPIDS Ecosystem**: cuML is part of the RAPIDS AI ecosystem, which includes libraries like cuDF (a GPU DataFrame library). This compatibility enables end-to-end GPU-accelerated workflows, allowing data to stay on the GPU from preprocessing to model training.\n",
    "\n",
    "4. **Pythonic API with Scikit-Learn Compatibility**: cuML's API closely resembles that of Scikit-Learn, making it easy for users to transition existing codebases or pipelines to GPU-accelerated workflows with minimal code changes.\n",
    "\n",
    "**Best for**: Fast, GPU-accelerated machine learning on large datasets that fit in GPU memory.\n",
    "\n",
    "**Strengths**: High-speed computations with GPU acceleration, easy integration with the RAPIDS ecosystem, and compatibility with Scikit-Learn syntax.\n",
    "\n",
    "**Use Case**: Machine learning tasks that benefit from GPU speedups, such as clustering, nearest neighbor search, and linear regression, on datasets with thousands to millions of entries, when training on a single GPU is feasible.\n"
   ]
  },
  {
   "cell_type": "code",
   "execution_count": 88,
   "id": "8d8df735-05f5-4d9a-a05e-958db362cfd8",
   "metadata": {},
   "outputs": [
    {
     "name": "stdout",
     "output_type": "stream",
     "text": [
      "GPU is available and will be used.\n"
     ]
    }
   ],
   "source": [
    "import polars as pl\n",
    "import cudf\n",
    "from cuml.feature_extraction.text import TfidfVectorizer\n",
    "from cuml.metrics import pairwise_distances\n",
    "import cupy as cp  # Used for GPU operations\n",
    "\n",
    "# Check if GPU is available\n",
    "if cp.cuda.runtime.getDeviceCount() > 0:\n",
    "    print(\"GPU is available and will be used.\")\n",
    "else:\n",
    "    raise SystemError(\"GPU is not available. Please ensure that a CUDA-compatible GPU is set up.\")\n"
   ]
  },
  {
   "cell_type": "code",
   "execution_count": 89,
   "id": "dabab72e-f0f3-42df-902c-0b29c76e601d",
   "metadata": {},
   "outputs": [
    {
     "data": {
      "text/plain": [
       "<Compressed Sparse Row sparse matrix of dtype 'float32'\n",
       "\twith 10816 stored elements and shape (104, 104)>"
      ]
     },
     "execution_count": 89,
     "metadata": {},
     "output_type": "execute_result"
    }
   ],
   "source": [
    "from scipy.sparse import csr_matrix\n",
    "\n",
    "# Polars DataFrame grouping and transformation\n",
    "df_polars_grouped = df_polars.group_by('user').agg(pl.col('url').str.concat(' '))\n",
    "\n",
    "# Fake coordinated accounts\n",
    "# --- Define four coordinated users connected to all URLs\n",
    "coordinated_users = [f\"coordinated_user_{i}\" for i in range(4)]\n",
    "all_urls_string = \" \".join([f\"http://example.com/{i}\" for i in range(NUMBER_OF_URLS)])\n",
    "\n",
    "# ---- Concatenate the coordinated users to the grouped DataFrame\n",
    "coordinated_users_df = pl.DataFrame({\n",
    "    \"user\": coordinated_users,\n",
    "    \"url\": [all_urls_string] * len(coordinated_users)\n",
    "})\n",
    "df_polars_grouped = pl.concat([df_polars_grouped, coordinated_users_df])\n",
    "\n",
    "# Convert grouped Polars DataFrame to cuDF\n",
    "df_cudf = cudf.DataFrame.from_pandas(df_polars_grouped.to_pandas())\n",
    "\n",
    "# Step 1: TF-IDF Vectorization on the 'url' column\n",
    "vectorizer = TfidfVectorizer()\n",
    "tfidf_matrix = vectorizer.fit_transform(df_cudf['url'])\n",
    "\n",
    "# Step 2: Compute Cosine Similarity Matrix\n",
    "# Cosine similarity can be derived as (1 - cosine distance)\n",
    "cosine_similarity_matrix = 1 - pairwise_distances(tfidf_matrix, metric=\"cosine\")\n",
    "\n",
    "# Step 3: Convert to CSR matrix format and set diagonal to 0\n",
    "sparse_matrix_csr = csr_matrix(cosine_similarity_matrix.get())  # Move from GPU to CPU\n",
    "sparse_matrix_csr.setdiag(0)  # Removing self-loops\n",
    "\n",
    "# The result is a sparse matrix ready for further processing\n",
    "sparse_matrix_csr"
   ]
  },
  {
   "cell_type": "markdown",
   "id": "1208f268-3062-4d8b-a05a-748b6cfb51cc",
   "metadata": {},
   "source": [
    "### Notes:\n",
    "\n",
    "Choosing Between FAISS, cuML, and Sklearn for Pairwise Distance Computation\n",
    "\n",
    "1. **FAISS**\n",
    "   - **Best for**: Large-scale, dense vector search (high-dimensional data).\n",
    "   - **Strengths**: Optimized for Approximate Nearest Neighbor (ANN) search, scalable to multi-GPU or distributed setups.\n",
    "   - **Use Case**: Real-time, large-scale recommendation systems or retrieval tasks with millions of entries.\n",
    "\n",
    "2. **cuML**\n",
    "   - **Best for**: Fast, exact similarity computation on datasets within single GPU memory.\n",
    "   - **Strengths**: GPU-accelerated, efficient for moderately sized datasets.\n",
    "   - **Use Case**: Exact user-to-user similarity or distance computations with thousands to tens of thousands of entries.\n",
    "\n",
    "3. **Sklearn**\n",
    "   - **Best for**: CPU-based exact computation on smaller or distributed datasets.\n",
    "   - **Strengths**: Accessible in CPU-only environments, good for modest data sizes.\n",
    "   - **Use Case**: Smaller datasets or CPU-only batch processing, where GPU memory is insufficient."
   ]
  },
  {
   "cell_type": "markdown",
   "id": "f52a3276-cde5-4994-a1ba-a0d80fb905d7",
   "metadata": {},
   "source": [
    "------"
   ]
  },
  {
   "cell_type": "markdown",
   "id": "c7cc3b37-8685-45df-8cda-5e26b60b0184",
   "metadata": {},
   "source": [
    "# 4. Interactive visualization"
   ]
  },
  {
   "cell_type": "markdown",
   "id": "b1bcb141-2858-459b-813f-c73360e6e076",
   "metadata": {},
   "source": [
    "### Suggestion: use PyViz: https://pyviz.org/"
   ]
  },
  {
   "cell_type": "markdown",
   "id": "5bf718a1-f40b-4b83-b7e8-877fe422248c",
   "metadata": {},
   "source": [
    "### Facts:\n",
    "\n",
    "1. **Interactive Visualizations**: PyViz provides tools for creating interactive visualizations that allow users to explore complex datasets directly within Jupyter Notebooks or standalone dashboards.\n",
    "\n",
    "2. **Integration with Popular Libraries**: PyViz integrates seamlessly with popular Python visualization libraries, such as Matplotlib, Bokeh, and Plotly, making it adaptable for various plotting needs and compatible with existing codebases.\n",
    "\n",
    "3. **Scalable for Large Datasets**: PyViz is designed to handle large datasets efficiently, with support for data streaming and dynamic updates, making it ideal for real-time data visualization in big data and IoT applications.\n",
    "\n",
    "4. **High-Level Interface with HoloViews**: PyViz includes HoloViews, which simplifies creating complex visualizations by allowing users to define visual representations directly from their data without extensive plotting code.\n",
    "\n",
    "**Best for**: Creating interactive and scalable visualizations in Jupyter Notebooks or dashboards.\n",
    "\n",
    "**Strengths**: Flexibility to handle large datasets, seamless integration with popular libraries, and high-level interfaces for intuitive plotting.\n",
    "\n",
    "**Use Case**: Exploratory data analysis, real-time monitoring dashboards, and visualizing complex data structures interactively in Jupyter or web applications.\n"
   ]
  },
  {
   "cell_type": "code",
   "execution_count": 95,
   "id": "396bc551-2878-4468-a343-dc00427a36dd",
   "metadata": {},
   "outputs": [
    {
     "data": {
      "image/png": "[encoded data removed]",
      "text/plain": [
       "<Figure size 1000x600 with 1 Axes>"
      ]
     },
     "metadata": {},
     "output_type": "display_data"
    }
   ],
   "source": [
    "import networkx as nx\n",
    "from pyvis.network import Network\n",
    "import matplotlib.pyplot as plt\n",
    "\n",
    "# Step 1: Create Graph from Similarity Matrix\n",
    "G = nx.from_scipy_sparse_array(sparse_matrix_csr, create_using=nx.Graph)\n",
    "usernames = df_polars_grouped['user'].to_list()\n",
    "G = nx.relabel_nodes(G, dict(enumerate(usernames)))  # Map integer indices to actual usernames\n",
    "\n",
    "# Step 2: Plot Similarity Distribution\n",
    "similarities = [d['weight'] for _, _, d in G.edges(data=True)]\n",
    "\n",
    "plt.figure(figsize=(10, 6))\n",
    "plt.hist(similarities, bins=20, edgecolor='black')\n",
    "plt.title(\"Similarity Distribution of Edges\")\n",
    "plt.xlabel(\"Similarity Score\")\n",
    "plt.ylabel(\"Frequency\")\n",
    "plt.show()"
   ]
  },
  {
   "cell_type": "code",
   "execution_count": 96,
   "id": "55e8298e-68b0-4fb8-81ff-ad894eea07e9",
   "metadata": {},
   "outputs": [
    {
     "name": "stdout",
     "output_type": "stream",
     "text": [
      "Warning: When  cdn_resources is 'local' jupyter notebook has issues displaying graphics on chrome/safari. Use cdn_resources='in_line' or cdn_resources='remote' if you have issues viewing graphics in a notebook.\n",
      "similarity_graph.html\n"
     ]
    },
    {
     "data": {
      "text/html": [
       "\n",
       "        <iframe\n",
       "            width=\"100%\"\n",
       "            height=\"600px\"\n",
       "            src=\"similarity_graph.html\"\n",
       "            frameborder=\"0\"\n",
       "            allowfullscreen\n",
       "            \n",
       "        ></iframe>\n",
       "        "
      ],
      "text/plain": [
       "<IPython.lib.display.IFrame at 0x7f7981afa4d0>"
      ]
     },
     "execution_count": 96,
     "metadata": {},
     "output_type": "execute_result"
    }
   ],
   "source": [
    "# Step 3: Filter edges based on minimum similarity threshold\n",
    "min_similarity = 0.95\n",
    "edges_to_remove = [(u, v) for u, v, d in G.edges(data=True) if d['weight'] <= min_similarity]\n",
    "G.remove_edges_from(edges_to_remove)\n",
    "G.remove_nodes_from(list(nx.isolates(G)))  # Remove disconnected nodes\n",
    "\n",
    "# Step 4: Add clickable link to each node\n",
    "for user in G.nodes:\n",
    "    # Get the user's specific URL or a default URL format\n",
    "    url = user_to_url.get(user, f\"https://x.com/user-{user}\")\n",
    "    G.nodes[user][\"title\"] = f\"<a href='{url}' target='_blank'>Click to view profile</a>\"\n",
    "\n",
    "\n",
    "# Step 5: Visualize with PyViz\n",
    "net = Network(notebook=True)\n",
    "net.from_nx(G)\n",
    "net.show(\"similarity_graph.html\")"
   ]
  }
 ],
 "metadata": {
  "kernelspec": {
   "display_name": "rapids",
   "language": "python",
   "name": "rapids"
  },
  "language_info": {
   "codemirror_mode": {
    "name": "ipython",
    "version": 3
   },
   "file_extension": ".py",
   "mimetype": "text/x-python",
   "name": "python",
   "nbconvert_exporter": "python",
   "pygments_lexer": "ipython3",
   "version": "3.11.10"
  }
 },
 "nbformat": 4,
 "nbformat_minor": 5
}
